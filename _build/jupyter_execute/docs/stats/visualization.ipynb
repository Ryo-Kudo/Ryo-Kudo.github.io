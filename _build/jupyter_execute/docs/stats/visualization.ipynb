{
 "cells": [
  {
   "cell_type": "markdown",
   "metadata": {},
   "source": [
    "# グラフの表示 (visualization)\n",
    "---\n",
    "データをわかりやすくグラフに表示することができると、データの理解や説明に役立つ。"
   ]
  },
  {
   "cell_type": "code",
   "execution_count": 2,
   "metadata": {},
   "outputs": [],
   "source": [
    "import numpy as np\n",
    "import pandas as pd\n",
    "from statsmodels.graphics.mosaicplot import mosaic\n",
    "import matplotlib.pyplot as plt\n",
    "%matplotlib inline"
   ]
  },
  {
   "cell_type": "markdown",
   "metadata": {},
   "source": [
    "## グラフの意味"
   ]
  },
  {
   "cell_type": "markdown",
   "metadata": {},
   "source": [
    "### ヒストグラム\n",
    "---\n",
    "- 縦軸に度数 (頻度)、横軸に階級 (値の範囲) をとったグラフである。\n",
    "- データ分布の形や偏りがないかなどを確認するのに利用する。\n",
    "    - 山が複数ある場合には、性質の異なる複数のグループが混在している可能性がある。\n",
    "    - 外れ値をどこに設定するか、区間の数をいくつに設定するかなどで印象が全く異なるので、複数表示して確認する。"
   ]
  },
  {
   "cell_type": "code",
   "execution_count": 3,
   "metadata": {
    "scrolled": true
   },
   "outputs": [
    {
     "name": "stdout",
     "output_type": "stream",
     "text": [
      "Help on function hist_frame in module pandas.plotting._core:\n",
      "\n",
      "hist_frame(data: 'DataFrame', column: Union[Hashable, NoneType, Sequence[Union[Hashable, NoneType]]] = None, by=None, grid: bool = True, xlabelsize: Union[int, NoneType] = None, xrot: Union[float, NoneType] = None, ylabelsize: Union[int, NoneType] = None, yrot: Union[float, NoneType] = None, ax=None, sharex: bool = False, sharey: bool = False, figsize: Union[Tuple[int, int], NoneType] = None, layout: Union[Tuple[int, int], NoneType] = None, bins: Union[int, Sequence[int]] = 10, backend: Union[str, NoneType] = None, legend: bool = False, **kwargs)\n",
      "    Make a histogram of the DataFrame's.\n",
      "    \n",
      "    A `histogram`_ is a representation of the distribution of data.\n",
      "    This function calls :meth:`matplotlib.pyplot.hist`, on each series in\n",
      "    the DataFrame, resulting in one histogram per column.\n",
      "    \n",
      "    .. _histogram: https://en.wikipedia.org/wiki/Histogram\n",
      "    \n",
      "    Parameters\n",
      "    ----------\n",
      "    data : DataFrame\n",
      "        The pandas object holding the data.\n",
      "    column : str or sequence\n",
      "        If passed, will be used to limit data to a subset of columns.\n",
      "    by : object, optional\n",
      "        If passed, then used to form histograms for separate groups.\n",
      "    grid : bool, default True\n",
      "        Whether to show axis grid lines.\n",
      "    xlabelsize : int, default None\n",
      "        If specified changes the x-axis label size.\n",
      "    xrot : float, default None\n",
      "        Rotation of x axis labels. For example, a value of 90 displays the\n",
      "        x labels rotated 90 degrees clockwise.\n",
      "    ylabelsize : int, default None\n",
      "        If specified changes the y-axis label size.\n",
      "    yrot : float, default None\n",
      "        Rotation of y axis labels. For example, a value of 90 displays the\n",
      "        y labels rotated 90 degrees clockwise.\n",
      "    ax : Matplotlib axes object, default None\n",
      "        The axes to plot the histogram on.\n",
      "    sharex : bool, default True if ax is None else False\n",
      "        In case subplots=True, share x axis and set some x axis labels to\n",
      "        invisible; defaults to True if ax is None otherwise False if an ax\n",
      "        is passed in.\n",
      "        Note that passing in both an ax and sharex=True will alter all x axis\n",
      "        labels for all subplots in a figure.\n",
      "    sharey : bool, default False\n",
      "        In case subplots=True, share y axis and set some y axis labels to\n",
      "        invisible.\n",
      "    figsize : tuple\n",
      "        The size in inches of the figure to create. Uses the value in\n",
      "        `matplotlib.rcParams` by default.\n",
      "    layout : tuple, optional\n",
      "        Tuple of (rows, columns) for the layout of the histograms.\n",
      "    bins : int or sequence, default 10\n",
      "        Number of histogram bins to be used. If an integer is given, bins + 1\n",
      "        bin edges are calculated and returned. If bins is a sequence, gives\n",
      "        bin edges, including left edge of first bin and right edge of last\n",
      "        bin. In this case, bins is returned unmodified.\n",
      "    \n",
      "    backend : str, default None\n",
      "        Backend to use instead of the backend specified in the option\n",
      "        ``plotting.backend``. For instance, 'matplotlib'. Alternatively, to\n",
      "        specify the ``plotting.backend`` for the whole session, set\n",
      "        ``pd.options.plotting.backend``.\n",
      "    \n",
      "        .. versionadded:: 1.0.0\n",
      "    \n",
      "    legend : bool, default False\n",
      "        Whether to show the legend.\n",
      "    \n",
      "        .. versionadded:: 1.1.0\n",
      "    \n",
      "    **kwargs\n",
      "        All other plotting keyword arguments to be passed to\n",
      "        :meth:`matplotlib.pyplot.hist`.\n",
      "    \n",
      "    Returns\n",
      "    -------\n",
      "    matplotlib.AxesSubplot or numpy.ndarray of them\n",
      "    \n",
      "    See Also\n",
      "    --------\n",
      "    matplotlib.pyplot.hist : Plot a histogram using matplotlib.\n",
      "    \n",
      "    Examples\n",
      "    --------\n",
      "    This example draws a histogram based on the length and width of\n",
      "    some animals, displayed in three bins\n",
      "    \n",
      "    .. plot::\n",
      "        :context: close-figs\n",
      "    \n",
      "        >>> df = pd.DataFrame({\n",
      "        ...     'length': [1.5, 0.5, 1.2, 0.9, 3],\n",
      "        ...     'width': [0.7, 0.2, 0.15, 0.2, 1.1]\n",
      "        ...     }, index=['pig', 'rabbit', 'duck', 'chicken', 'horse'])\n",
      "        >>> hist = df.hist(bins=3)\n",
      "\n"
     ]
    }
   ],
   "source": [
    "#関数の説明を表示\n",
    "help(pd.DataFrame.hist)"
   ]
  },
  {
   "cell_type": "code",
   "execution_count": 4,
   "metadata": {},
   "outputs": [
    {
     "data": {
      "text/html": [
       "<div>\n",
       "<style scoped>\n",
       "    .dataframe tbody tr th:only-of-type {\n",
       "        vertical-align: middle;\n",
       "    }\n",
       "\n",
       "    .dataframe tbody tr th {\n",
       "        vertical-align: top;\n",
       "    }\n",
       "\n",
       "    .dataframe thead th {\n",
       "        text-align: right;\n",
       "    }\n",
       "</style>\n",
       "<table border=\"1\" class=\"dataframe\">\n",
       "  <thead>\n",
       "    <tr style=\"text-align: right;\">\n",
       "      <th></th>\n",
       "      <th></th>\n",
       "    </tr>\n",
       "  </thead>\n",
       "  <tbody>\n",
       "    <tr>\n",
       "      <th>South America</th>\n",
       "      <td>6795</td>\n",
       "    </tr>\n",
       "    <tr>\n",
       "      <th>Southampton</th>\n",
       "      <td>16</td>\n",
       "    </tr>\n",
       "    <tr>\n",
       "      <th>Spitsbergen</th>\n",
       "      <td>15</td>\n",
       "    </tr>\n",
       "    <tr>\n",
       "      <th>Sumatra</th>\n",
       "      <td>183</td>\n",
       "    </tr>\n",
       "    <tr>\n",
       "      <th>Taiwan</th>\n",
       "      <td>14</td>\n",
       "    </tr>\n",
       "    <tr>\n",
       "      <th>Tasmania</th>\n",
       "      <td>26</td>\n",
       "    </tr>\n",
       "    <tr>\n",
       "      <th>Tierra del Fuego</th>\n",
       "      <td>19</td>\n",
       "    </tr>\n",
       "    <tr>\n",
       "      <th>Timor</th>\n",
       "      <td>13</td>\n",
       "    </tr>\n",
       "    <tr>\n",
       "      <th>Vancouver</th>\n",
       "      <td>12</td>\n",
       "    </tr>\n",
       "    <tr>\n",
       "      <th>Victoria</th>\n",
       "      <td>82</td>\n",
       "    </tr>\n",
       "  </tbody>\n",
       "</table>\n",
       "</div>"
      ],
      "text/plain": [
       "                      \n",
       "South America     6795\n",
       "Southampton         16\n",
       "Spitsbergen         15\n",
       "Sumatra            183\n",
       "Taiwan              14\n",
       "Tasmania            26\n",
       "Tierra del Fuego    19\n",
       "Timor               13\n",
       "Vancouver           12\n",
       "Victoria            82"
      ]
     },
     "execution_count": 4,
     "metadata": {},
     "output_type": "execute_result"
    }
   ],
   "source": [
    "isl = pd.read_csv('./data/islands.csv', header=None, index_col=0, names=[''])\n",
    "isl.tail(10)"
   ]
  },
  {
   "cell_type": "code",
   "execution_count": 5,
   "metadata": {},
   "outputs": [
    {
     "data": {
      "text/plain": [
       "array([[<AxesSubplot:>]], dtype=object)"
      ]
     },
     "execution_count": 5,
     "metadata": {},
     "output_type": "execute_result"
    },
    {
     "data": {
      "image/png": "[encoded data removed]",
      "text/plain": [
       "<Figure size 432x288 with 1 Axes>"
      ]
     },
     "metadata": {
      "filenames": {
       "image/png": "/Users/ry1537/Documents/GitHub/mynewbook/_build/jupyter_execute/docs/stats/visualization_6_1.png"
      },
      "needs_background": "light"
     },
     "output_type": "display_data"
    }
   ],
   "source": [
    "isl.hist()"
   ]
  },
  {
   "cell_type": "markdown",
   "metadata": {},
   "source": [
    "### 箱ひげ図\n",
    "---\n",
    "- 中央値・四分位点・外れ値を一度に可視化できるグラフである。\n",
    "    - 四角 (箱) の上下間 = 四分位範囲 (25%点 ~ 75%点)\n",
    "    - 四角 (箱) の中の線 = 中央値\n",
    "    - 上下に伸びた線 (ひげ) = 箱の上 (下) から箱の高さの1.5倍を延長した範囲 (データの最小値・最大値は超えない)\n",
    "    - 上下の点 = 外れ値\n",
    "- pd.DataFrame.boxplot を用いて描画する。"
   ]
  },
  {
   "cell_type": "code",
   "execution_count": 6,
   "metadata": {
    "scrolled": true
   },
   "outputs": [
    {
     "name": "stdout",
     "output_type": "stream",
     "text": [
      "Help on function boxplot_frame in module pandas.plotting._core:\n",
      "\n",
      "boxplot_frame(self, column=None, by=None, ax=None, fontsize=None, rot=0, grid=True, figsize=None, layout=None, return_type=None, backend=None, **kwargs)\n",
      "    Make a box plot from DataFrame columns.\n",
      "    \n",
      "    Make a box-and-whisker plot from DataFrame columns, optionally grouped\n",
      "    by some other columns. A box plot is a method for graphically depicting\n",
      "    groups of numerical data through their quartiles.\n",
      "    The box extends from the Q1 to Q3 quartile values of the data,\n",
      "    with a line at the median (Q2). The whiskers extend from the edges\n",
      "    of box to show the range of the data. By default, they extend no more than\n",
      "    `1.5 * IQR (IQR = Q3 - Q1)` from the edges of the box, ending at the farthest\n",
      "    data point within that interval. Outliers are plotted as separate dots.\n",
      "    \n",
      "    For further details see\n",
      "    Wikipedia's entry for `boxplot <https://en.wikipedia.org/wiki/Box_plot>`_.\n",
      "    \n",
      "    Parameters\n",
      "    ----------\n",
      "    column : str or list of str, optional\n",
      "        Column name or list of names, or vector.\n",
      "        Can be any valid input to :meth:`pandas.DataFrame.groupby`.\n",
      "    by : str or array-like, optional\n",
      "        Column in the DataFrame to :meth:`pandas.DataFrame.groupby`.\n",
      "        One box-plot will be done per value of columns in `by`.\n",
      "    ax : object of class matplotlib.axes.Axes, optional\n",
      "        The matplotlib axes to be used by boxplot.\n",
      "    fontsize : float or str\n",
      "        Tick label font size in points or as a string (e.g., `large`).\n",
      "    rot : int or float, default 0\n",
      "        The rotation angle of labels (in degrees)\n",
      "        with respect to the screen coordinate system.\n",
      "    grid : bool, default True\n",
      "        Setting this to True will show the grid.\n",
      "    figsize : A tuple (width, height) in inches\n",
      "        The size of the figure to create in matplotlib.\n",
      "    layout : tuple (rows, columns), optional\n",
      "        For example, (3, 5) will display the subplots\n",
      "        using 3 columns and 5 rows, starting from the top-left.\n",
      "    return_type : {'axes', 'dict', 'both'} or None, default 'axes'\n",
      "        The kind of object to return. The default is ``axes``.\n",
      "    \n",
      "        * 'axes' returns the matplotlib axes the boxplot is drawn on.\n",
      "        * 'dict' returns a dictionary whose values are the matplotlib\n",
      "          Lines of the boxplot.\n",
      "        * 'both' returns a namedtuple with the axes and dict.\n",
      "        * when grouping with ``by``, a Series mapping columns to\n",
      "          ``return_type`` is returned.\n",
      "    \n",
      "          If ``return_type`` is `None`, a NumPy array\n",
      "          of axes with the same shape as ``layout`` is returned.\n",
      "    backend : str, default None\n",
      "        Backend to use instead of the backend specified in the option\n",
      "        ``plotting.backend``. For instance, 'matplotlib'. Alternatively, to\n",
      "        specify the ``plotting.backend`` for the whole session, set\n",
      "        ``pd.options.plotting.backend``.\n",
      "    \n",
      "        .. versionadded:: 1.0.0\n",
      "    \n",
      "    **kwargs\n",
      "        All other plotting keyword arguments to be passed to\n",
      "        :func:`matplotlib.pyplot.boxplot`.\n",
      "    \n",
      "    Returns\n",
      "    -------\n",
      "    result\n",
      "        See Notes.\n",
      "    \n",
      "    See Also\n",
      "    --------\n",
      "    Series.plot.hist: Make a histogram.\n",
      "    matplotlib.pyplot.boxplot : Matplotlib equivalent plot.\n",
      "    \n",
      "    Notes\n",
      "    -----\n",
      "    The return type depends on the `return_type` parameter:\n",
      "    \n",
      "    * 'axes' : object of class matplotlib.axes.Axes\n",
      "    * 'dict' : dict of matplotlib.lines.Line2D objects\n",
      "    * 'both' : a namedtuple with structure (ax, lines)\n",
      "    \n",
      "    For data grouped with ``by``, return a Series of the above or a numpy\n",
      "    array:\n",
      "    \n",
      "    * :class:`~pandas.Series`\n",
      "    * :class:`~numpy.array` (for ``return_type = None``)\n",
      "    \n",
      "    Use ``return_type='dict'`` when you want to tweak the appearance\n",
      "    of the lines after plotting. In this case a dict containing the Lines\n",
      "    making up the boxes, caps, fliers, medians, and whiskers is returned.\n",
      "    \n",
      "    Examples\n",
      "    --------\n",
      "    \n",
      "    Boxplots can be created for every column in the dataframe\n",
      "    by ``df.boxplot()`` or indicating the columns to be used:\n",
      "    \n",
      "    .. plot::\n",
      "        :context: close-figs\n",
      "    \n",
      "        >>> np.random.seed(1234)\n",
      "        >>> df = pd.DataFrame(np.random.randn(10, 4),\n",
      "        ...                   columns=['Col1', 'Col2', 'Col3', 'Col4'])\n",
      "        >>> boxplot = df.boxplot(column=['Col1', 'Col2', 'Col3'])\n",
      "    \n",
      "    Boxplots of variables distributions grouped by the values of a third\n",
      "    variable can be created using the option ``by``. For instance:\n",
      "    \n",
      "    .. plot::\n",
      "        :context: close-figs\n",
      "    \n",
      "        >>> df = pd.DataFrame(np.random.randn(10, 2),\n",
      "        ...                   columns=['Col1', 'Col2'])\n",
      "        >>> df['X'] = pd.Series(['A', 'A', 'A', 'A', 'A',\n",
      "        ...                      'B', 'B', 'B', 'B', 'B'])\n",
      "        >>> boxplot = df.boxplot(by='X')\n",
      "    \n",
      "    A list of strings (i.e. ``['X', 'Y']``) can be passed to boxplot\n",
      "    in order to group the data by combination of the variables in the x-axis:\n",
      "    \n",
      "    .. plot::\n",
      "        :context: close-figs\n",
      "    \n",
      "        >>> df = pd.DataFrame(np.random.randn(10, 3),\n",
      "        ...                   columns=['Col1', 'Col2', 'Col3'])\n",
      "        >>> df['X'] = pd.Series(['A', 'A', 'A', 'A', 'A',\n",
      "        ...                      'B', 'B', 'B', 'B', 'B'])\n",
      "        >>> df['Y'] = pd.Series(['A', 'B', 'A', 'B', 'A',\n",
      "        ...                      'B', 'A', 'B', 'A', 'B'])\n",
      "        >>> boxplot = df.boxplot(column=['Col1', 'Col2'], by=['X', 'Y'])\n",
      "    \n",
      "    The layout of boxplot can be adjusted giving a tuple to ``layout``:\n",
      "    \n",
      "    .. plot::\n",
      "        :context: close-figs\n",
      "    \n",
      "        >>> boxplot = df.boxplot(column=['Col1', 'Col2'], by='X',\n",
      "        ...                      layout=(2, 1))\n",
      "    \n",
      "    Additional formatting can be done to the boxplot, like suppressing the grid\n",
      "    (``grid=False``), rotating the labels in the x-axis (i.e. ``rot=45``)\n",
      "    or changing the fontsize (i.e. ``fontsize=15``):\n",
      "    \n",
      "    .. plot::\n",
      "        :context: close-figs\n",
      "    \n",
      "        >>> boxplot = df.boxplot(grid=False, rot=45, fontsize=15)\n",
      "    \n",
      "    The parameter ``return_type`` can be used to select the type of element\n",
      "    returned by `boxplot`.  When ``return_type='axes'`` is selected,\n",
      "    the matplotlib axes on which the boxplot is drawn are returned:\n",
      "    \n",
      "        >>> boxplot = df.boxplot(column=['Col1', 'Col2'], return_type='axes')\n",
      "        >>> type(boxplot)\n",
      "        <class 'matplotlib.axes._subplots.AxesSubplot'>\n",
      "    \n",
      "    When grouping with ``by``, a Series mapping columns to ``return_type``\n",
      "    is returned:\n",
      "    \n",
      "        >>> boxplot = df.boxplot(column=['Col1', 'Col2'], by='X',\n",
      "        ...                      return_type='axes')\n",
      "        >>> type(boxplot)\n",
      "        <class 'pandas.core.series.Series'>\n",
      "    \n",
      "    If ``return_type`` is `None`, a NumPy array of axes with the same shape\n",
      "    as ``layout`` is returned:\n",
      "    \n",
      "        >>> boxplot = df.boxplot(column=['Col1', 'Col2'], by='X',\n",
      "        ...                      return_type=None)\n",
      "        >>> type(boxplot)\n",
      "        <class 'numpy.ndarray'>\n",
      "\n"
     ]
    }
   ],
   "source": [
    "#関数の説明を表示\n",
    "help(pd.DataFrame.boxplot)"
   ]
  },
  {
   "cell_type": "code",
   "execution_count": 7,
   "metadata": {},
   "outputs": [
    {
     "data": {
      "text/html": [
       "<div>\n",
       "<style scoped>\n",
       "    .dataframe tbody tr th:only-of-type {\n",
       "        vertical-align: middle;\n",
       "    }\n",
       "\n",
       "    .dataframe tbody tr th {\n",
       "        vertical-align: top;\n",
       "    }\n",
       "\n",
       "    .dataframe thead th {\n",
       "        text-align: right;\n",
       "    }\n",
       "</style>\n",
       "<table border=\"1\" class=\"dataframe\">\n",
       "  <thead>\n",
       "    <tr style=\"text-align: right;\">\n",
       "      <th></th>\n",
       "      <th>count</th>\n",
       "      <th>spray</th>\n",
       "    </tr>\n",
       "  </thead>\n",
       "  <tbody>\n",
       "    <tr>\n",
       "      <th>67</th>\n",
       "      <td>10</td>\n",
       "      <td>F</td>\n",
       "    </tr>\n",
       "    <tr>\n",
       "      <th>68</th>\n",
       "      <td>26</td>\n",
       "      <td>F</td>\n",
       "    </tr>\n",
       "    <tr>\n",
       "      <th>69</th>\n",
       "      <td>26</td>\n",
       "      <td>F</td>\n",
       "    </tr>\n",
       "    <tr>\n",
       "      <th>70</th>\n",
       "      <td>24</td>\n",
       "      <td>F</td>\n",
       "    </tr>\n",
       "    <tr>\n",
       "      <th>71</th>\n",
       "      <td>13</td>\n",
       "      <td>F</td>\n",
       "    </tr>\n",
       "  </tbody>\n",
       "</table>\n",
       "</div>"
      ],
      "text/plain": [
       "    count spray\n",
       "67     10     F\n",
       "68     26     F\n",
       "69     26     F\n",
       "70     24     F\n",
       "71     13     F"
      ]
     },
     "execution_count": 7,
     "metadata": {},
     "output_type": "execute_result"
    }
   ],
   "source": [
    "ins = pd.read_csv('./data/InsectSprays.csv')\n",
    "ins.tail()"
   ]
  },
  {
   "cell_type": "code",
   "execution_count": 8,
   "metadata": {},
   "outputs": [
    {
     "data": {
      "text/plain": [
       "<AxesSubplot:title={'center':'count'}, xlabel='[spray]'>"
      ]
     },
     "execution_count": 8,
     "metadata": {},
     "output_type": "execute_result"
    },
    {
     "data": {
      "image/png": "[encoded data removed]",
      "text/plain": [
       "<Figure size 432x288 with 1 Axes>"
      ]
     },
     "metadata": {
      "filenames": {
       "image/png": "/Users/ry1537/Documents/GitHub/mynewbook/_build/jupyter_execute/docs/stats/visualization_10_1.png"
      },
      "needs_background": "light"
     },
     "output_type": "display_data"
    }
   ],
   "source": [
    "ins.boxplot(by='spray')"
   ]
  },
  {
   "cell_type": "markdown",
   "metadata": {},
   "source": [
    "### 棒グラフ (bar plot)\n",
    "---\n",
    "- pd.DataFrame.plot.bar を用いて描画する。"
   ]
  },
  {
   "cell_type": "code",
   "execution_count": 9,
   "metadata": {
    "scrolled": true
   },
   "outputs": [
    {
     "name": "stdout",
     "output_type": "stream",
     "text": [
      "Help on function bar in module pandas.plotting._core:\n",
      "\n",
      "bar(self, x=None, y=None, **kwargs)\n",
      "    Vertical bar plot.\n",
      "    \n",
      "    A bar plot is a plot that presents categorical data with\n",
      "    rectangular bars with lengths proportional to the values that they\n",
      "    represent. A bar plot shows comparisons among discrete categories. One\n",
      "    axis of the plot shows the specific categories being compared, and the\n",
      "    other axis represents a measured value.\n",
      "    \n",
      "    Parameters\n",
      "    ----------\n",
      "    x : label or position, optional\n",
      "        Allows plotting of one column versus another. If not specified,\n",
      "        the index of the DataFrame is used.\n",
      "    y : label or position, optional\n",
      "        Allows plotting of one column versus another. If not specified,\n",
      "        all numerical columns are used.\n",
      "    color : str, array_like, or dict, optional\n",
      "        The color for each of the DataFrame's columns. Possible values are:\n",
      "    \n",
      "        - A single color string referred to by name, RGB or RGBA code,\n",
      "            for instance 'red' or '#a98d19'.\n",
      "    \n",
      "        - A sequence of color strings referred to by name, RGB or RGBA\n",
      "            code, which will be used for each column recursively. For\n",
      "            instance ['green','yellow'] each column's bar will be filled in\n",
      "            green or yellow, alternatively.\n",
      "    \n",
      "        - A dict of the form {column name : color}, so that each column will be\n",
      "            colored accordingly. For example, if your columns are called `a` and\n",
      "            `b`, then passing {'a': 'green', 'b': 'red'} will color bars for\n",
      "            column `a` in green and bars for column `b` in red.\n",
      "    \n",
      "        .. versionadded:: 1.1.0\n",
      "    \n",
      "    **kwargs\n",
      "        Additional keyword arguments are documented in\n",
      "        :meth:`DataFrame.plot`.\n",
      "    \n",
      "    Returns\n",
      "    -------\n",
      "    matplotlib.axes.Axes or np.ndarray of them\n",
      "        An ndarray is returned with one :class:`matplotlib.axes.Axes`\n",
      "        per column when ``subplots=True``.\n",
      "    \n",
      "            See Also\n",
      "            --------\n",
      "            DataFrame.plot.barh : Horizontal bar plot.\n",
      "            DataFrame.plot : Make plots of a DataFrame.\n",
      "            matplotlib.pyplot.bar : Make a bar plot with matplotlib.\n",
      "    \n",
      "            Examples\n",
      "            --------\n",
      "            Basic plot.\n",
      "    \n",
      "            .. plot::\n",
      "                :context: close-figs\n",
      "    \n",
      "                >>> df = pd.DataFrame({'lab':['A', 'B', 'C'], 'val':[10, 30, 20]})\n",
      "                >>> ax = df.plot.bar(x='lab', y='val', rot=0)\n",
      "    \n",
      "            Plot a whole dataframe to a bar plot. Each column is assigned a\n",
      "            distinct color, and each row is nested in a group along the\n",
      "            horizontal axis.\n",
      "    \n",
      "            .. plot::\n",
      "                :context: close-figs\n",
      "    \n",
      "                >>> speed = [0.1, 17.5, 40, 48, 52, 69, 88]\n",
      "                >>> lifespan = [2, 8, 70, 1.5, 25, 12, 28]\n",
      "                >>> index = ['snail', 'pig', 'elephant',\n",
      "                ...          'rabbit', 'giraffe', 'coyote', 'horse']\n",
      "                >>> df = pd.DataFrame({'speed': speed,\n",
      "                ...                    'lifespan': lifespan}, index=index)\n",
      "                >>> ax = df.plot.bar(rot=0)\n",
      "    \n",
      "            Plot stacked bar charts for the DataFrame\n",
      "    \n",
      "            .. plot::\n",
      "                :context: close-figs\n",
      "    \n",
      "                >>> ax = df.plot.bar(stacked=True)\n",
      "    \n",
      "            Instead of nesting, the figure can be split by column with\n",
      "            ``subplots=True``. In this case, a :class:`numpy.ndarray` of\n",
      "            :class:`matplotlib.axes.Axes` are returned.\n",
      "    \n",
      "            .. plot::\n",
      "                :context: close-figs\n",
      "    \n",
      "                >>> axes = df.plot.bar(rot=0, subplots=True)\n",
      "                >>> axes[1].legend(loc=2)  # doctest: +SKIP\n",
      "    \n",
      "            If you don't like the default colours, you can specify how you'd\n",
      "            like each column to be colored.\n",
      "    \n",
      "            .. plot::\n",
      "                :context: close-figs\n",
      "    \n",
      "                >>> axes = df.plot.bar(\n",
      "                ...     rot=0, subplots=True, color={\"speed\": \"red\", \"lifespan\": \"green\"}\n",
      "                ... )\n",
      "                >>> axes[1].legend(loc=2)  # doctest: +SKIP\n",
      "    \n",
      "            Plot a single column.\n",
      "    \n",
      "            .. plot::\n",
      "                :context: close-figs\n",
      "    \n",
      "                >>> ax = df.plot.bar(y='speed', rot=0)\n",
      "    \n",
      "            Plot only selected categories for the DataFrame.\n",
      "    \n",
      "            .. plot::\n",
      "                :context: close-figs\n",
      "    \n",
      "                >>> ax = df.plot.bar(x='lifespan', rot=0)\n",
      "\n"
     ]
    }
   ],
   "source": [
    "#関数の説明を表示\n",
    "help(pd.DataFrame.plot.bar)"
   ]
  },
  {
   "cell_type": "code",
   "execution_count": 10,
   "metadata": {},
   "outputs": [
    {
     "data": {
      "text/html": [
       "<div>\n",
       "<style scoped>\n",
       "    .dataframe tbody tr th:only-of-type {\n",
       "        vertical-align: middle;\n",
       "    }\n",
       "\n",
       "    .dataframe tbody tr th {\n",
       "        vertical-align: top;\n",
       "    }\n",
       "\n",
       "    .dataframe thead th {\n",
       "        text-align: right;\n",
       "    }\n",
       "</style>\n",
       "<table border=\"1\" class=\"dataframe\">\n",
       "  <thead>\n",
       "    <tr style=\"text-align: right;\">\n",
       "      <th></th>\n",
       "      <th>Rural Male</th>\n",
       "      <th>Rural Female</th>\n",
       "      <th>Urban Male</th>\n",
       "      <th>Urban Female</th>\n",
       "    </tr>\n",
       "  </thead>\n",
       "  <tbody>\n",
       "    <tr>\n",
       "      <th>50-54</th>\n",
       "      <td>11.7</td>\n",
       "      <td>8.7</td>\n",
       "      <td>15.4</td>\n",
       "      <td>8.4</td>\n",
       "    </tr>\n",
       "    <tr>\n",
       "      <th>55-59</th>\n",
       "      <td>18.1</td>\n",
       "      <td>11.7</td>\n",
       "      <td>24.3</td>\n",
       "      <td>13.6</td>\n",
       "    </tr>\n",
       "    <tr>\n",
       "      <th>60-64</th>\n",
       "      <td>26.9</td>\n",
       "      <td>20.3</td>\n",
       "      <td>37.0</td>\n",
       "      <td>19.3</td>\n",
       "    </tr>\n",
       "    <tr>\n",
       "      <th>65-69</th>\n",
       "      <td>41.0</td>\n",
       "      <td>30.9</td>\n",
       "      <td>54.6</td>\n",
       "      <td>35.1</td>\n",
       "    </tr>\n",
       "    <tr>\n",
       "      <th>70-74</th>\n",
       "      <td>66.0</td>\n",
       "      <td>54.3</td>\n",
       "      <td>71.1</td>\n",
       "      <td>50.0</td>\n",
       "    </tr>\n",
       "  </tbody>\n",
       "</table>\n",
       "</div>"
      ],
      "text/plain": [
       "       Rural Male  Rural Female  Urban Male  Urban Female\n",
       "50-54        11.7           8.7        15.4           8.4\n",
       "55-59        18.1          11.7        24.3          13.6\n",
       "60-64        26.9          20.3        37.0          19.3\n",
       "65-69        41.0          30.9        54.6          35.1\n",
       "70-74        66.0          54.3        71.1          50.0"
      ]
     },
     "execution_count": 10,
     "metadata": {},
     "output_type": "execute_result"
    }
   ],
   "source": [
    "va = pd.read_csv('./data/VADeaths.csv', index_col=0)\n",
    "va"
   ]
  },
  {
   "cell_type": "code",
   "execution_count": 11,
   "metadata": {},
   "outputs": [
    {
     "data": {
      "text/plain": [
       "<AxesSubplot:>"
      ]
     },
     "execution_count": 11,
     "metadata": {},
     "output_type": "execute_result"
    },
    {
     "data": {
      "image/png": "[encoded data removed]",
      "text/plain": [
       "<Figure size 432x288 with 1 Axes>"
      ]
     },
     "metadata": {
      "filenames": {
       "image/png": "/Users/ry1537/Documents/GitHub/mynewbook/_build/jupyter_execute/docs/stats/visualization_14_1.png"
      },
      "needs_background": "light"
     },
     "output_type": "display_data"
    }
   ],
   "source": [
    "va.plot.bar()"
   ]
  },
  {
   "cell_type": "code",
   "execution_count": 12,
   "metadata": {},
   "outputs": [
    {
     "data": {
      "text/plain": [
       "<AxesSubplot:>"
      ]
     },
     "execution_count": 12,
     "metadata": {},
     "output_type": "execute_result"
    },
    {
     "data": {
      "image/png": "[encoded data removed]",
      "text/plain": [
       "<Figure size 432x288 with 1 Axes>"
      ]
     },
     "metadata": {
      "filenames": {
       "image/png": "/Users/ry1537/Documents/GitHub/mynewbook/_build/jupyter_execute/docs/stats/visualization_15_1.png"
      },
      "needs_background": "light"
     },
     "output_type": "display_data"
    }
   ],
   "source": [
    "va.plot.bar(stacked=True)"
   ]
  },
  {
   "cell_type": "markdown",
   "metadata": {},
   "source": [
    "### モザイク図 (mosaic plot)\n",
    "---\n",
    "- 数値の大きさを面性で表すプロットである。\n",
    "    - クロス集計表の視覚化などに利用される。\n",
    "- statsmodels.graphics.mosaicplot.mosaic を用いる。"
   ]
  },
  {
   "cell_type": "code",
   "execution_count": 14,
   "metadata": {
    "scrolled": true
   },
   "outputs": [
    {
     "name": "stdout",
     "output_type": "stream",
     "text": [
      "Help on function mosaic in module statsmodels.graphics.mosaicplot:\n",
      "\n",
      "mosaic(data, index=None, ax=None, horizontal=True, gap=0.005, properties=<function <lambda> at 0x172c99280>, labelizer=None, title='', statistic=False, axes_label=True, label_rotation=0.0)\n",
      "    Create a mosaic plot from a contingency table.\n",
      "    \n",
      "    It allows to visualize multivariate categorical data in a rigorous\n",
      "    and informative way.\n",
      "    \n",
      "    Parameters\n",
      "    ----------\n",
      "    data : {dict, Series, ndarray, DataFrame}\n",
      "        The contingency table that contains the data.\n",
      "        Each category should contain a non-negative number\n",
      "        with a tuple as index.  It expects that all the combination\n",
      "        of keys to be represents; if that is not true, will\n",
      "        automatically consider the missing values as 0.  The order\n",
      "        of the keys will be the same as the one of insertion.\n",
      "        If a dict of a Series (or any other dict like object)\n",
      "        is used, it will take the keys as labels.  If a\n",
      "        np.ndarray is provided, it will generate a simple\n",
      "        numerical labels.\n",
      "    index : list, optional\n",
      "        Gives the preferred order for the category ordering. If not specified\n",
      "        will default to the given order.  It does not support named indexes\n",
      "        for hierarchical Series.  If a DataFrame is provided, it expects\n",
      "        a list with the name of the columns.\n",
      "    ax : Axes, optional\n",
      "        The graph where display the mosaic. If not given, will\n",
      "        create a new figure\n",
      "    horizontal : bool, optional\n",
      "        The starting direction of the split (by default along\n",
      "        the horizontal axis)\n",
      "    gap : {float, sequence[float]}\n",
      "        The list of gaps to be applied on each subdivision.\n",
      "        If the length of the given array is less of the number\n",
      "        of subcategories (or if it's a single number) it will extend\n",
      "        it with exponentially decreasing gaps\n",
      "    properties : dict[str, callable], optional\n",
      "        A function that for each tile in the mosaic take the key\n",
      "        of the tile and returns the dictionary of properties\n",
      "        of the generated Rectangle, like color, hatch or similar.\n",
      "        A default properties set will be provided fot the keys whose\n",
      "        color has not been defined, and will use color variation to help\n",
      "        visually separates the various categories. It should return None\n",
      "        to indicate that it should use the default property for the tile.\n",
      "        A dictionary of the properties for each key can be passed,\n",
      "        and it will be internally converted to the correct function\n",
      "    labelizer : dict[str, callable], optional\n",
      "        A function that generate the text to display at the center of\n",
      "        each tile base on the key of that tile\n",
      "    title : str, optional\n",
      "        The title of the axis\n",
      "    statistic : bool, optional\n",
      "        If true will use a crude statistical model to give colors to the plot.\n",
      "        If the tile has a constraint that is more than 2 standard deviation\n",
      "        from the expected value under independence hypothesis, it will\n",
      "        go from green to red (for positive deviations, blue otherwise) and\n",
      "        will acquire an hatching when crosses the 3 sigma.\n",
      "    axes_label : bool, optional\n",
      "        Show the name of each value of each category\n",
      "        on the axis (default) or hide them.\n",
      "    label_rotation : {float, list[float]}\n",
      "        The rotation of the axis label (if present). If a list is given\n",
      "        each axis can have a different rotation\n",
      "    \n",
      "    Returns\n",
      "    ---------\n",
      "    fig : Figure\n",
      "        The figure containing the plot.\n",
      "    rects : dict\n",
      "        A dictionary that has the same keys of the original\n",
      "        dataset, that holds a reference to the coordinates of the\n",
      "        tile and the Rectangle that represent it.\n",
      "    \n",
      "    References\n",
      "    ----------\n",
      "    A Brief History of the Mosaic Display\n",
      "        Michael Friendly, York University, Psychology Department\n",
      "        Journal of Computational and Graphical Statistics, 2001\n",
      "    \n",
      "    Mosaic Displays for Loglinear Models.\n",
      "        Michael Friendly, York University, Psychology Department\n",
      "        Proceedings of the Statistical Graphics Section, 1992, 61-68.\n",
      "    \n",
      "    Mosaic displays for multi-way contingency tables.\n",
      "        Michael Friendly, York University, Psychology Department\n",
      "        Journal of the american statistical association\n",
      "        March 1994, Vol. 89, No. 425, Theory and Methods\n",
      "    \n",
      "    Examples\n",
      "    ----------\n",
      "    >>> import numpy as np\n",
      "    >>> import pandas as pd\n",
      "    >>> import matplotlib.pyplot as plt\n",
      "    >>> from statsmodels.graphics.mosaicplot import mosaic\n",
      "    \n",
      "    The most simple use case is to take a dictionary and plot the result\n",
      "    \n",
      "    >>> data = {'a': 10, 'b': 15, 'c': 16}\n",
      "    >>> mosaic(data, title='basic dictionary')\n",
      "    >>> plt.show()\n",
      "    \n",
      "    A more useful example is given by a dictionary with multiple indices.\n",
      "    In this case we use a wider gap to a better visual separation of the\n",
      "    resulting plot\n",
      "    \n",
      "    >>> data = {('a', 'b'): 1, ('a', 'c'): 2, ('d', 'b'): 3, ('d', 'c'): 4}\n",
      "    >>> mosaic(data, gap=0.05, title='complete dictionary')\n",
      "    >>> plt.show()\n",
      "    \n",
      "    The same data can be given as a simple or hierarchical indexed Series\n",
      "    \n",
      "    >>> rand = np.random.random\n",
      "    >>> from itertools import product\n",
      "    >>> tuples = list(product(['bar', 'baz', 'foo', 'qux'], ['one', 'two']))\n",
      "    >>> index = pd.MultiIndex.from_tuples(tuples, names=['first', 'second'])\n",
      "    >>> data = pd.Series(rand(8), index=index)\n",
      "    >>> mosaic(data, title='hierarchical index series')\n",
      "    >>> plt.show()\n",
      "    \n",
      "    The third accepted data structure is the np array, for which a\n",
      "    very simple index will be created.\n",
      "    \n",
      "    >>> rand = np.random.random\n",
      "    >>> data = 1+rand((2,2))\n",
      "    >>> mosaic(data, title='random non-labeled array')\n",
      "    >>> plt.show()\n",
      "    \n",
      "    If you need to modify the labeling and the coloring you can give\n",
      "    a function tocreate the labels and one with the graphical properties\n",
      "    starting from the key tuple\n",
      "    \n",
      "    >>> data = {'a': 10, 'b': 15, 'c': 16}\n",
      "    >>> props = lambda key: {'color': 'r' if 'a' in key else 'gray'}\n",
      "    >>> labelizer = lambda k: {('a',): 'first', ('b',): 'second',\n",
      "    ...                        ('c',): 'third'}[k]\n",
      "    >>> mosaic(data, title='colored dictionary', properties=props,\n",
      "    ...        labelizer=labelizer)\n",
      "    >>> plt.show()\n",
      "    \n",
      "    Using a DataFrame as source, specifying the name of the columns of interest\n",
      "    \n",
      "    >>> gender = ['male', 'male', 'male', 'female', 'female', 'female']\n",
      "    >>> pet = ['cat', 'dog', 'dog', 'cat', 'dog', 'cat']\n",
      "    >>> data = pd.DataFrame({'gender': gender, 'pet': pet})\n",
      "    >>> mosaic(data, ['pet', 'gender'], title='DataFrame as Source')\n",
      "    >>> plt.show()\n",
      "    \n",
      "    .. plot :: plots/graphics_mosaicplot_mosaic.py\n",
      "\n"
     ]
    }
   ],
   "source": [
    "#関数の説明を表示\n",
    "help(mosaic)"
   ]
  },
  {
   "cell_type": "code",
   "execution_count": 15,
   "metadata": {},
   "outputs": [
    {
     "data": {
      "text/html": [
       "<div>\n",
       "<style scoped>\n",
       "    .dataframe tbody tr th:only-of-type {\n",
       "        vertical-align: middle;\n",
       "    }\n",
       "\n",
       "    .dataframe tbody tr th {\n",
       "        vertical-align: top;\n",
       "    }\n",
       "\n",
       "    .dataframe thead th {\n",
       "        text-align: right;\n",
       "    }\n",
       "</style>\n",
       "<table border=\"1\" class=\"dataframe\">\n",
       "  <thead>\n",
       "    <tr style=\"text-align: right;\">\n",
       "      <th></th>\n",
       "      <th>Class</th>\n",
       "      <th>Sex</th>\n",
       "      <th>Age</th>\n",
       "      <th>Survived</th>\n",
       "    </tr>\n",
       "  </thead>\n",
       "  <tbody>\n",
       "    <tr>\n",
       "      <th>2197</th>\n",
       "      <td>Crew</td>\n",
       "      <td>Female</td>\n",
       "      <td>Adult</td>\n",
       "      <td>Yes</td>\n",
       "    </tr>\n",
       "    <tr>\n",
       "      <th>2198</th>\n",
       "      <td>Crew</td>\n",
       "      <td>Female</td>\n",
       "      <td>Adult</td>\n",
       "      <td>Yes</td>\n",
       "    </tr>\n",
       "    <tr>\n",
       "      <th>2199</th>\n",
       "      <td>Crew</td>\n",
       "      <td>Female</td>\n",
       "      <td>Adult</td>\n",
       "      <td>Yes</td>\n",
       "    </tr>\n",
       "    <tr>\n",
       "      <th>2200</th>\n",
       "      <td>Crew</td>\n",
       "      <td>Female</td>\n",
       "      <td>Adult</td>\n",
       "      <td>Yes</td>\n",
       "    </tr>\n",
       "    <tr>\n",
       "      <th>2201</th>\n",
       "      <td>Crew</td>\n",
       "      <td>Female</td>\n",
       "      <td>Adult</td>\n",
       "      <td>Yes</td>\n",
       "    </tr>\n",
       "  </tbody>\n",
       "</table>\n",
       "</div>"
      ],
      "text/plain": [
       "     Class     Sex    Age Survived\n",
       "2197  Crew  Female  Adult      Yes\n",
       "2198  Crew  Female  Adult      Yes\n",
       "2199  Crew  Female  Adult      Yes\n",
       "2200  Crew  Female  Adult      Yes\n",
       "2201  Crew  Female  Adult      Yes"
      ]
     },
     "execution_count": 15,
     "metadata": {},
     "output_type": "execute_result"
    }
   ],
   "source": [
    "titanic = pd.read_csv('./data/titanic.csv')\n",
    "titanic.tail()"
   ]
  },
  {
   "cell_type": "code",
   "execution_count": 16,
   "metadata": {},
   "outputs": [
    {
     "data": {
      "image/png": "[encoded data removed]",
      "text/plain": [
       "<Figure size 432x288 with 3 Axes>"
      ]
     },
     "metadata": {
      "filenames": {
       "image/png": "/Users/ry1537/Documents/GitHub/mynewbook/_build/jupyter_execute/docs/stats/visualization_19_0.png"
      },
      "needs_background": "light"
     },
     "output_type": "display_data"
    }
   ],
   "source": [
    "mosaic(titanic, ['Class', 'Survived'])\n",
    "plt.show()"
   ]
  },
  {
   "cell_type": "code",
   "execution_count": 17,
   "metadata": {},
   "outputs": [
    {
     "data": {
      "image/png": "[encoded data removed]",
      "text/plain": [
       "<Figure size 432x288 with 3 Axes>"
      ]
     },
     "metadata": {
      "filenames": {
       "image/png": "/Users/ry1537/Documents/GitHub/mynewbook/_build/jupyter_execute/docs/stats/visualization_20_0.png"
      },
      "needs_background": "light"
     },
     "output_type": "display_data"
    }
   ],
   "source": [
    "mosaic(titanic, ['Sex', 'Survived'])\n",
    "plt.show()"
   ]
  },
  {
   "cell_type": "markdown",
   "metadata": {},
   "source": [
    "## （参考）その他のグラフについて\n",
    "---\n",
    "- 上記のコードは随時追加していく予定である。\n",
    "- 上記以外のものについては、[pandasのドキュメント](https://pandas.pydata.org/pandas-docs/stable/visualization.html)や[seabornのチュートリアル](https://seaborn.pydata.org/tutorial/distributions.html)を参照すると良い。"
   ]
  },
  {
   "cell_type": "code",
   "execution_count": null,
   "metadata": {},
   "outputs": [],
   "source": []
  }
 ],
 "metadata": {
  "kernelspec": {
   "display_name": "Python 3",
   "language": "python",
   "name": "python3"
  },
  "language_info": {
   "codemirror_mode": {
    "name": "ipython",
    "version": 3
   },
   "file_extension": ".py",
   "mimetype": "text/x-python",
   "name": "python",
   "nbconvert_exporter": "python",
   "pygments_lexer": "ipython3",
   "version": "3.8.2"
  },
  "toc": {
   "base_numbering": 1,
   "nav_menu": {},
   "number_sections": true,
   "sideBar": true,
   "skip_h1_title": true,
   "title_cell": "Table of Contents",
   "title_sidebar": "Contents",
   "toc_cell": false,
   "toc_position": {},
   "toc_section_display": true,
   "toc_window_display": true
  },
  "varInspector": {
   "cols": {
    "lenName": 16,
    "lenType": 16,
    "lenVar": 40
   },
   "kernels_config": {
    "python": {
     "delete_cmd_postfix": "",
     "delete_cmd_prefix": "del ",
     "library": "var_list.py",
     "varRefreshCmd": "print(var_dic_list())"
    },
    "r": {
     "delete_cmd_postfix": ") ",
     "delete_cmd_prefix": "rm(",
     "library": "var_list.r",
     "varRefreshCmd": "cat(var_dic_list()) "
    }
   },
   "types_to_exclude": [
    "module",
    "function",
    "builtin_function_or_method",
    "instance",
    "_Feature"
   ],
   "window_display": false
  }
 },
 "nbformat": 4,
 "nbformat_minor": 4
}