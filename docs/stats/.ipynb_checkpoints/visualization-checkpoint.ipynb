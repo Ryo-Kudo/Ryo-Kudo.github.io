{
 "cells": [
  {
   "cell_type": "markdown",
   "metadata": {},
   "source": [
    "# グラフの表示\n",
    "---\n",
    "データをわかりやすいグラフに表示できると、データの理解や説明に役立つ。"
   ]
  },
  {
   "cell_type": "code",
   "execution_count": 1,
   "metadata": {},
   "outputs": [],
   "source": [
    "import numpy as np\n",
    "import pandas as pd\n",
    "from statsmodels.graphics.mosaicplot import mosaic\n",
    "import matplotlib.pyplot as plt\n",
    "%matplotlib inline"
   ]
  },
  {
   "cell_type": "markdown",
   "metadata": {},
   "source": [
    "## やってみる\n",
    "---\n",
    "RStudio の Console に\n",
    "\n",
    "```R:\n",
    "library(Rcmdr)\n",
    "```\n",
    "\n",
    "と入力して、 R commander を起動。"
   ]
  },
  {
   "cell_type": "markdown",
   "metadata": {},
   "source": [
    "### ヒストグラム\n",
    "---\n",
    "- データ -> データのインポート -> テキストファイルまたはクリップボード, URLから\n",
    "\n",
    "として、「ファイル内に変数名あり」のチェックを外し、「フィールドの区切り記号」を「カンマ」にし、「OK」をクリック。 'workspace/data/islands.csv' を読み込む。「データセットを表示」をクリックし、内容を確認。\n",
    "\n",
    "- データ -> アクティブデータセット -> ケース名の設定\n",
    "\n",
    "として、「V1」を選択し、「OK」をクリック。再度データセットを確認。\n",
    "\n",
    "- グラフ -> ヒストグラム\n",
    "\n",
    "としてヒストグラムを表示。"
   ]
  },
  {
   "cell_type": "markdown",
   "metadata": {},
   "source": [
    "### 箱ひげ図\n",
    "---\n",
    "- データ -> データのインポート -> テキストファイルまたはクリップボード, URLから\n",
    "\n",
    "として、「フィールドの区切り記号」を「カンマ」にし、「OK」をクリック。 'workspace/data/InsectSprays.csv' を読み込む。「データセットを表示」をクリックし、内容を確認。\n",
    "\n",
    "- グラフ -> 箱ひげ図\n",
    "\n",
    "として、「層別のプロット」から「spray」を選択し、箱ひげ図を表示。"
   ]
  },
  {
   "cell_type": "markdown",
   "metadata": {},
   "source": [
    "## グラフの意味"
   ]
  },
  {
   "cell_type": "markdown",
   "metadata": {},
   "source": [
    "### ヒストグラム\n",
    "---\n",
    "縦軸に度数 (頻度)、横軸に階級 (値の範囲) をとったグラフ。データ分布の形や偏りがないかなどを確認するのに利用する。\n",
    "\n",
    "山が複数ある場合には、性質の異なる複数のグループが混在している可能性がある。\n",
    "\n",
    "外れ値をどこに設定するか、区間の数をいくつに設定するかなどで印象が全く異なるので、複数表示して確認する。"
   ]
  },
  {
   "cell_type": "markdown",
   "metadata": {},
   "source": [
    "### 箱ひげ図\n",
    "---\n",
    "中央値・四分位点・外れ値を一度に可視化できるグラフ。\n",
    "\n",
    "- 四角 (箱) の上下間 = 四分位範囲 (25%点 ~ 75%点)\n",
    "- 四角 (箱) の中の線 = 中央値\n",
    "- 上下に伸びた線 (ひげ) = 箱の上 (下) から箱の高さの1.5倍を延長した範囲 (データの最小値・最大値は超えない)\n",
    "- 上下の点 = 外れ値"
   ]
  },
  {
   "cell_type": "markdown",
   "metadata": {},
   "source": [
    "## Python でのグラフ表示\n",
    "---\n",
    "以下にないものについては[pandasのドキュメント](https://pandas.pydata.org/pandas-docs/stable/visualization.html)や[seabornのチュートリアル](https://seaborn.pydata.org/tutorial/distributions.html)参照。\n",
    "\n",
    "[Rでの実行方法](../r/visualization.nb.html)も参照"
   ]
  },
  {
   "cell_type": "markdown",
   "metadata": {},
   "source": [
    "### ヒストグラム\n",
    "---\n",
    "pd.DataFrame.hist を用いる。"
   ]
  },
  {
   "cell_type": "code",
   "execution_count": 2,
   "metadata": {
    "scrolled": true
   },
   "outputs": [
    {
     "name": "stdout",
     "output_type": "stream",
     "text": [
      "Help on function hist_frame in module pandas.plotting._core:\n",
      "\n",
      "hist_frame(data, column=None, by=None, grid=True, xlabelsize=None, xrot=None, ylabelsize=None, yrot=None, ax=None, sharex=False, sharey=False, figsize=None, layout=None, bins=10, **kwds)\n",
      "    Draw histogram of the DataFrame's series using matplotlib / pylab.\n",
      "    \n",
      "    Parameters\n",
      "    ----------\n",
      "    data : DataFrame\n",
      "    column : string or sequence\n",
      "        If passed, will be used to limit data to a subset of columns\n",
      "    by : object, optional\n",
      "        If passed, then used to form histograms for separate groups\n",
      "    grid : boolean, default True\n",
      "        Whether to show axis grid lines\n",
      "    xlabelsize : int, default None\n",
      "        If specified changes the x-axis label size\n",
      "    xrot : float, default None\n",
      "        rotation of x axis labels\n",
      "    ylabelsize : int, default None\n",
      "        If specified changes the y-axis label size\n",
      "    yrot : float, default None\n",
      "        rotation of y axis labels\n",
      "    ax : matplotlib axes object, default None\n",
      "    sharex : boolean, default True if ax is None else False\n",
      "        In case subplots=True, share x axis and set some x axis labels to\n",
      "        invisible; defaults to True if ax is None otherwise False if an ax\n",
      "        is passed in; Be aware, that passing in both an ax and sharex=True\n",
      "        will alter all x axis labels for all subplots in a figure!\n",
      "    sharey : boolean, default False\n",
      "        In case subplots=True, share y axis and set some y axis labels to\n",
      "        invisible\n",
      "    figsize : tuple\n",
      "        The size of the figure to create in inches by default\n",
      "    layout : tuple, optional\n",
      "        Tuple of (rows, columns) for the layout of the histograms\n",
      "    bins : integer, default 10\n",
      "        Number of histogram bins to be used\n",
      "    kwds : other plotting keyword arguments\n",
      "        To be passed to hist function\n",
      "\n"
     ]
    }
   ],
   "source": [
    "help(pd.DataFrame.hist)"
   ]
  },
  {
   "cell_type": "code",
   "execution_count": 10,
   "metadata": {},
   "outputs": [
    {
     "data": {
      "text/html": [
       "<div>\n",
       "<style scoped>\n",
       "    .dataframe tbody tr th:only-of-type {\n",
       "        vertical-align: middle;\n",
       "    }\n",
       "\n",
       "    .dataframe tbody tr th {\n",
       "        vertical-align: top;\n",
       "    }\n",
       "\n",
       "    .dataframe thead th {\n",
       "        text-align: right;\n",
       "    }\n",
       "</style>\n",
       "<table border=\"1\" class=\"dataframe\">\n",
       "  <thead>\n",
       "    <tr style=\"text-align: right;\">\n",
       "      <th></th>\n",
       "      <th></th>\n",
       "    </tr>\n",
       "  </thead>\n",
       "  <tbody>\n",
       "    <tr>\n",
       "      <th>South America</th>\n",
       "      <td>6795</td>\n",
       "    </tr>\n",
       "    <tr>\n",
       "      <th>Southampton</th>\n",
       "      <td>16</td>\n",
       "    </tr>\n",
       "    <tr>\n",
       "      <th>Spitsbergen</th>\n",
       "      <td>15</td>\n",
       "    </tr>\n",
       "    <tr>\n",
       "      <th>Sumatra</th>\n",
       "      <td>183</td>\n",
       "    </tr>\n",
       "    <tr>\n",
       "      <th>Taiwan</th>\n",
       "      <td>14</td>\n",
       "    </tr>\n",
       "    <tr>\n",
       "      <th>Tasmania</th>\n",
       "      <td>26</td>\n",
       "    </tr>\n",
       "    <tr>\n",
       "      <th>Tierra del Fuego</th>\n",
       "      <td>19</td>\n",
       "    </tr>\n",
       "    <tr>\n",
       "      <th>Timor</th>\n",
       "      <td>13</td>\n",
       "    </tr>\n",
       "    <tr>\n",
       "      <th>Vancouver</th>\n",
       "      <td>12</td>\n",
       "    </tr>\n",
       "    <tr>\n",
       "      <th>Victoria</th>\n",
       "      <td>82</td>\n",
       "    </tr>\n",
       "  </tbody>\n",
       "</table>\n",
       "</div>"
      ],
      "text/plain": [
       "                      \n",
       "South America     6795\n",
       "Southampton         16\n",
       "Spitsbergen         15\n",
       "Sumatra            183\n",
       "Taiwan              14\n",
       "Tasmania            26\n",
       "Tierra del Fuego    19\n",
       "Timor               13\n",
       "Vancouver           12\n",
       "Victoria            82"
      ]
     },
     "execution_count": 10,
     "metadata": {},
     "output_type": "execute_result"
    }
   ],
   "source": [
    "isl = pd.read_csv('../data/islands.csv', header=None, index_col=0, names=[''])\n",
    "isl.tail(10)"
   ]
  },
  {
   "cell_type": "code",
   "execution_count": 4,
   "metadata": {},
   "outputs": [
    {
     "data": {
      "text/plain": [
       "array([[<matplotlib.axes._subplots.AxesSubplot object at 0x7f87d5a9c198>]],\n",
       "      dtype=object)"
      ]
     },
     "execution_count": 4,
     "metadata": {},
     "output_type": "execute_result"
    },
    {
     "data": {
      "image/png": "[encoded data removed]",
      "text/plain": [
       "<Figure size 432x288 with 1 Axes>"
      ]
     },
     "metadata": {},
     "output_type": "display_data"
    }
   ],
   "source": [
    "isl.hist()"
   ]
  },
  {
   "cell_type": "markdown",
   "metadata": {},
   "source": [
    "### 箱ひげ図\n",
    "---\n",
    "pd.DataFrame.boxplot を用いる。"
   ]
  },
  {
   "cell_type": "code",
   "execution_count": 5,
   "metadata": {
    "scrolled": true
   },
   "outputs": [
    {
     "name": "stdout",
     "output_type": "stream",
     "text": [
      "Help on function boxplot_frame in module pandas.plotting._core:\n",
      "\n",
      "boxplot_frame(self, column=None, by=None, ax=None, fontsize=None, rot=0, grid=True, figsize=None, layout=None, return_type=None, **kwds)\n",
      "    Make a box plot from DataFrame column optionally grouped by some columns or\n",
      "    other inputs\n",
      "    \n",
      "    Parameters\n",
      "    ----------\n",
      "    data : the pandas object holding the data\n",
      "    column : column name or list of names, or vector\n",
      "        Can be any valid input to groupby\n",
      "    by : string or sequence\n",
      "        Column in the DataFrame to group by\n",
      "    ax : Matplotlib axes object, optional\n",
      "    fontsize : int or string\n",
      "    rot : label rotation angle\n",
      "    figsize : A tuple (width, height) in inches\n",
      "    grid : Setting this to True will show the grid\n",
      "    layout : tuple (optional)\n",
      "        (rows, columns) for the layout of the plot\n",
      "    return_type : {None, 'axes', 'dict', 'both'}, default None\n",
      "        The kind of object to return. The default is ``axes``\n",
      "        'axes' returns the matplotlib axes the boxplot is drawn on;\n",
      "        'dict' returns a dictionary  whose values are the matplotlib\n",
      "        Lines of the boxplot;\n",
      "        'both' returns a namedtuple with the axes and dict.\n",
      "    \n",
      "        When grouping with ``by``, a Series mapping columns to ``return_type``\n",
      "        is returned, unless ``return_type`` is None, in which case a NumPy\n",
      "        array of axes is returned with the same shape as ``layout``.\n",
      "        See the prose documentation for more.\n",
      "    \n",
      "    kwds : other plotting keyword arguments to be passed to matplotlib boxplot\n",
      "           function\n",
      "    \n",
      "    Returns\n",
      "    -------\n",
      "    lines : dict\n",
      "    ax : matplotlib Axes\n",
      "    (ax, lines): namedtuple\n",
      "    \n",
      "    Notes\n",
      "    -----\n",
      "    Use ``return_type='dict'`` when you want to tweak the appearance\n",
      "    of the lines after plotting. In this case a dict containing the Lines\n",
      "    making up the boxes, caps, fliers, medians, and whiskers is returned.\n",
      "\n"
     ]
    }
   ],
   "source": [
    "help(pd.DataFrame.boxplot)"
   ]
  },
  {
   "cell_type": "code",
   "execution_count": 6,
   "metadata": {},
   "outputs": [
    {
     "data": {
      "text/html": [
       "<div>\n",
       "<style scoped>\n",
       "    .dataframe tbody tr th:only-of-type {\n",
       "        vertical-align: middle;\n",
       "    }\n",
       "\n",
       "    .dataframe tbody tr th {\n",
       "        vertical-align: top;\n",
       "    }\n",
       "\n",
       "    .dataframe thead th {\n",
       "        text-align: right;\n",
       "    }\n",
       "</style>\n",
       "<table border=\"1\" class=\"dataframe\">\n",
       "  <thead>\n",
       "    <tr style=\"text-align: right;\">\n",
       "      <th></th>\n",
       "      <th>count</th>\n",
       "      <th>spray</th>\n",
       "    </tr>\n",
       "  </thead>\n",
       "  <tbody>\n",
       "    <tr>\n",
       "      <th>67</th>\n",
       "      <td>10</td>\n",
       "      <td>F</td>\n",
       "    </tr>\n",
       "    <tr>\n",
       "      <th>68</th>\n",
       "      <td>26</td>\n",
       "      <td>F</td>\n",
       "    </tr>\n",
       "    <tr>\n",
       "      <th>69</th>\n",
       "      <td>26</td>\n",
       "      <td>F</td>\n",
       "    </tr>\n",
       "    <tr>\n",
       "      <th>70</th>\n",
       "      <td>24</td>\n",
       "      <td>F</td>\n",
       "    </tr>\n",
       "    <tr>\n",
       "      <th>71</th>\n",
       "      <td>13</td>\n",
       "      <td>F</td>\n",
       "    </tr>\n",
       "  </tbody>\n",
       "</table>\n",
       "</div>"
      ],
      "text/plain": [
       "    count spray\n",
       "67     10     F\n",
       "68     26     F\n",
       "69     26     F\n",
       "70     24     F\n",
       "71     13     F"
      ]
     },
     "execution_count": 6,
     "metadata": {},
     "output_type": "execute_result"
    }
   ],
   "source": [
    "ins = pd.read_csv('../data/InsectSprays.csv')\n",
    "ins.tail()"
   ]
  },
  {
   "cell_type": "code",
   "execution_count": 7,
   "metadata": {},
   "outputs": [
    {
     "data": {
      "text/plain": [
       "<matplotlib.axes._subplots.AxesSubplot at 0x7f87d5a34d68>"
      ]
     },
     "execution_count": 7,
     "metadata": {},
     "output_type": "execute_result"
    },
    {
     "data": {
      "image/png": "[encoded data removed]",
      "text/plain": [
       "<Figure size 432x288 with 1 Axes>"
      ]
     },
     "metadata": {},
     "output_type": "display_data"
    }
   ],
   "source": [
    "ins.boxplot(by='spray')"
   ]
  },
  {
   "cell_type": "markdown",
   "metadata": {},
   "source": [
    "### 棒グラフ (bar plot)\n",
    "---\n",
    "pd.DataFrame.plot.bar を用いる。"
   ]
  },
  {
   "cell_type": "code",
   "execution_count": 11,
   "metadata": {
    "scrolled": true
   },
   "outputs": [
    {
     "name": "stdout",
     "output_type": "stream",
     "text": [
      "Help on function bar in module pandas.plotting._core:\n",
      "\n",
      "bar(self, x=None, y=None, **kwds)\n",
      "    Vertical bar plot\n",
      "    \n",
      "    .. versionadded:: 0.17.0\n",
      "    \n",
      "    Parameters\n",
      "    ----------\n",
      "    x, y : label or position, optional\n",
      "        Coordinates for each point.\n",
      "    **kwds : optional\n",
      "        Keyword arguments to pass on to :py:meth:`pandas.DataFrame.plot`.\n",
      "    \n",
      "    Returns\n",
      "    -------\n",
      "    axes : matplotlib.AxesSubplot or np.array of them\n",
      "\n"
     ]
    }
   ],
   "source": [
    "help(pd.DataFrame.plot.bar)"
   ]
  },
  {
   "cell_type": "code",
   "execution_count": 12,
   "metadata": {},
   "outputs": [
    {
     "data": {
      "text/html": [
       "<div>\n",
       "<style scoped>\n",
       "    .dataframe tbody tr th:only-of-type {\n",
       "        vertical-align: middle;\n",
       "    }\n",
       "\n",
       "    .dataframe tbody tr th {\n",
       "        vertical-align: top;\n",
       "    }\n",
       "\n",
       "    .dataframe thead th {\n",
       "        text-align: right;\n",
       "    }\n",
       "</style>\n",
       "<table border=\"1\" class=\"dataframe\">\n",
       "  <thead>\n",
       "    <tr style=\"text-align: right;\">\n",
       "      <th></th>\n",
       "      <th>Rural Male</th>\n",
       "      <th>Rural Female</th>\n",
       "      <th>Urban Male</th>\n",
       "      <th>Urban Female</th>\n",
       "    </tr>\n",
       "  </thead>\n",
       "  <tbody>\n",
       "    <tr>\n",
       "      <th>50-54</th>\n",
       "      <td>11.7</td>\n",
       "      <td>8.7</td>\n",
       "      <td>15.4</td>\n",
       "      <td>8.4</td>\n",
       "    </tr>\n",
       "    <tr>\n",
       "      <th>55-59</th>\n",
       "      <td>18.1</td>\n",
       "      <td>11.7</td>\n",
       "      <td>24.3</td>\n",
       "      <td>13.6</td>\n",
       "    </tr>\n",
       "    <tr>\n",
       "      <th>60-64</th>\n",
       "      <td>26.9</td>\n",
       "      <td>20.3</td>\n",
       "      <td>37.0</td>\n",
       "      <td>19.3</td>\n",
       "    </tr>\n",
       "    <tr>\n",
       "      <th>65-69</th>\n",
       "      <td>41.0</td>\n",
       "      <td>30.9</td>\n",
       "      <td>54.6</td>\n",
       "      <td>35.1</td>\n",
       "    </tr>\n",
       "    <tr>\n",
       "      <th>70-74</th>\n",
       "      <td>66.0</td>\n",
       "      <td>54.3</td>\n",
       "      <td>71.1</td>\n",
       "      <td>50.0</td>\n",
       "    </tr>\n",
       "  </tbody>\n",
       "</table>\n",
       "</div>"
      ],
      "text/plain": [
       "       Rural Male  Rural Female  Urban Male  Urban Female\n",
       "50-54        11.7           8.7        15.4           8.4\n",
       "55-59        18.1          11.7        24.3          13.6\n",
       "60-64        26.9          20.3        37.0          19.3\n",
       "65-69        41.0          30.9        54.6          35.1\n",
       "70-74        66.0          54.3        71.1          50.0"
      ]
     },
     "execution_count": 12,
     "metadata": {},
     "output_type": "execute_result"
    }
   ],
   "source": [
    "va = pd.read_csv('../data/VADeaths.csv', index_col=0)\n",
    "va"
   ]
  },
  {
   "cell_type": "code",
   "execution_count": 13,
   "metadata": {},
   "outputs": [
    {
     "data": {
      "text/plain": [
       "<matplotlib.axes._subplots.AxesSubplot at 0x7f87d595f5f8>"
      ]
     },
     "execution_count": 13,
     "metadata": {},
     "output_type": "execute_result"
    },
    {
     "data": {
      "image/png": "[encoded data removed]",
      "text/plain": [
       "<Figure size 432x288 with 1 Axes>"
      ]
     },
     "metadata": {},
     "output_type": "display_data"
    }
   ],
   "source": [
    "va.plot.bar()"
   ]
  },
  {
   "cell_type": "code",
   "execution_count": 15,
   "metadata": {},
   "outputs": [
    {
     "data": {
      "text/plain": [
       "<matplotlib.axes._subplots.AxesSubplot at 0x7f87d58b5a90>"
      ]
     },
     "execution_count": 15,
     "metadata": {},
     "output_type": "execute_result"
    },
    {
     "data": {
      "image/png": "[encoded data removed]",
      "text/plain": [
       "<Figure size 432x288 with 1 Axes>"
      ]
     },
     "metadata": {},
     "output_type": "display_data"
    }
   ],
   "source": [
    "va.plot.bar(stacked=True)"
   ]
  },
  {
   "cell_type": "markdown",
   "metadata": {},
   "source": [
    "### モザイク図 (mosaic plot)\n",
    "---\n",
    "クロス集計表の視覚化などに利用する。数値の大きさを面積で表す。\n",
    "\n",
    "statsmodels.graphics.mosaicplot.mosaic を用いる。"
   ]
  },
  {
   "cell_type": "code",
   "execution_count": 16,
   "metadata": {},
   "outputs": [
    {
     "name": "stdout",
     "output_type": "stream",
     "text": [
      "Help on function mosaic in module statsmodels.graphics.mosaicplot:\n",
      "\n",
      "mosaic(data, index=None, ax=None, horizontal=True, gap=0.005, properties=<function <lambda> at 0x7f8803551488>, labelizer=None, title='', statistic=False, axes_label=True, label_rotation=0.0)\n",
      "    Create a mosaic plot from a contingency table.\n",
      "    \n",
      "    It allows to visualize multivariate categorical data in a rigorous\n",
      "    and informative way.\n",
      "    \n",
      "    Parameters\n",
      "    ----------\n",
      "    data : dict, pandas.Series, np.ndarray, pandas.DataFrame\n",
      "        The contingency table that contains the data.\n",
      "        Each category should contain a non-negative number\n",
      "        with a tuple as index.  It expects that all the combination\n",
      "        of keys to be representes; if that is not true, will\n",
      "        automatically consider the missing values as 0.  The order\n",
      "        of the keys will be the same as the one of insertion.\n",
      "        If a dict of a Series (or any other dict like object)\n",
      "        is used, it will take the keys as labels.  If a\n",
      "        np.ndarray is provided, it will generate a simple\n",
      "        numerical labels.\n",
      "    index: list, optional\n",
      "        Gives the preferred order for the category ordering. If not specified\n",
      "        will default to the given order.  It doesn't support named indexes\n",
      "        for hierarchical Series.  If a DataFrame is provided, it expects\n",
      "        a list with the name of the columns.\n",
      "    ax : matplotlib.Axes, optional\n",
      "        The graph where display the mosaic. If not given, will\n",
      "        create a new figure\n",
      "    horizontal : bool, optional (default True)\n",
      "        The starting direction of the split (by default along\n",
      "        the horizontal axis)\n",
      "    gap : float or array of floats\n",
      "        The list of gaps to be applied on each subdivision.\n",
      "        If the lenght of the given array is less of the number\n",
      "        of subcategories (or if it's a single number) it will extend\n",
      "        it with exponentially decreasing gaps\n",
      "    labelizer : function (key) -> string, optional\n",
      "        A function that generate the text to display at the center of\n",
      "        each tile base on the key of that tile\n",
      "    properties : function (key) -> dict, optional\n",
      "        A function that for each tile in the mosaic take the key\n",
      "        of the tile and returns the dictionary of properties\n",
      "        of the generated Rectangle, like color, hatch or similar.\n",
      "        A default properties set will be provided fot the keys whose\n",
      "        color has not been defined, and will use color variation to help\n",
      "        visually separates the various categories. It should return None\n",
      "        to indicate that it should use the default property for the tile.\n",
      "        A dictionary of the properties for each key can be passed,\n",
      "        and it will be internally converted to the correct function\n",
      "    statistic: bool, optional (default False)\n",
      "        if true will use a crude statistical model to give colors to the plot.\n",
      "        If the tile has a containt that is more than 2 standard deviation\n",
      "        from the expected value under independence hipotesys, it will\n",
      "        go from green to red (for positive deviations, blue otherwise) and\n",
      "        will acquire an hatching when crosses the 3 sigma.\n",
      "    title: string, optional\n",
      "        The title of the axis\n",
      "    axes_label: boolean, optional\n",
      "        Show the name of each value of each category\n",
      "        on the axis (default) or hide them.\n",
      "    label_rotation: float or list of float\n",
      "        the rotation of the axis label (if present). If a list is given\n",
      "        each axis can have a different rotation\n",
      "    \n",
      "    Returns\n",
      "    ----------\n",
      "    fig : matplotlib.Figure\n",
      "        The generate figure\n",
      "    rects : dict\n",
      "        A dictionary that has the same keys of the original\n",
      "        dataset, that holds a reference to the coordinates of the\n",
      "        tile and the Rectangle that represent it\n",
      "    \n",
      "    See Also\n",
      "    ----------\n",
      "    A Brief History of the Mosaic Display\n",
      "        Michael Friendly, York University, Psychology Department\n",
      "        Journal of Computational and Graphical Statistics, 2001\n",
      "    \n",
      "    Mosaic Displays for Loglinear Models.\n",
      "        Michael Friendly, York University, Psychology Department\n",
      "        Proceedings of the Statistical Graphics Section, 1992, 61-68.\n",
      "    \n",
      "    Mosaic displays for multi-way contingecy tables.\n",
      "        Michael Friendly, York University, Psychology Department\n",
      "        Journal of the american statistical association\n",
      "        March 1994, Vol. 89, No. 425, Theory and Methods\n",
      "    \n",
      "    Examples\n",
      "    ----------\n",
      "    The most simple use case is to take a dictionary and plot the result\n",
      "    \n",
      "    >>> data = {'a': 10, 'b': 15, 'c': 16}\n",
      "    >>> mosaic(data, title='basic dictionary')\n",
      "    >>> pylab.show()\n",
      "    \n",
      "    A more useful example is given by a dictionary with multiple indices.\n",
      "    In this case we use a wider gap to a better visual separation of the\n",
      "    resulting plot\n",
      "    \n",
      "    >>> data = {('a', 'b'): 1, ('a', 'c'): 2, ('d', 'b'): 3, ('d', 'c'): 4}\n",
      "    >>> mosaic(data, gap=0.05, title='complete dictionary')\n",
      "    >>> pylab.show()\n",
      "    \n",
      "    The same data can be given as a simple or hierarchical indexed Series\n",
      "    \n",
      "    >>> rand = np.random.random\n",
      "    >>> from itertools import product\n",
      "    >>>\n",
      "    >>> tuples = list(product(['bar', 'baz', 'foo', 'qux'], ['one', 'two']))\n",
      "    >>> index = pd.MultiIndex.from_tuples(tuples, names=['first', 'second'])\n",
      "    >>> data = pd.Series(rand(8), index=index)\n",
      "    >>> mosaic(data, title='hierarchical index series')\n",
      "    >>> pylab.show()\n",
      "    \n",
      "    The third accepted data structureis the np array, for which a\n",
      "    very simple index will be created.\n",
      "    \n",
      "    >>> rand = np.random.random\n",
      "    >>> data = 1+rand((2,2))\n",
      "    >>> mosaic(data, title='random non-labeled array')\n",
      "    >>> pylab.show()\n",
      "    \n",
      "    If you need to modify the labeling and the coloring you can give\n",
      "    a function tocreate the labels and one with the graphical properties\n",
      "    starting from the key tuple\n",
      "    \n",
      "    >>> data = {'a': 10, 'b': 15, 'c': 16}\n",
      "    >>> props = lambda key: {'color': 'r' if 'a' in key else 'gray'}\n",
      "    >>> labelizer = lambda k: {('a',): 'first', ('b',): 'second',                                ('c',): 'third'}[k]\n",
      "    >>> mosaic(data, title='colored dictionary',                 properties=props, labelizer=labelizer)\n",
      "    >>> pylab.show()\n",
      "    \n",
      "    Using a DataFrame as source, specifying the name of the columns of interest\n",
      "    >>> gender = ['male', 'male', 'male', 'female', 'female', 'female']\n",
      "    >>> pet = ['cat', 'dog', 'dog', 'cat', 'dog', 'cat']\n",
      "    >>> data = pandas.DataFrame({'gender': gender, 'pet': pet})\n",
      "    >>> mosaic(data, ['pet', 'gender'])\n",
      "    >>> pylab.show()\n",
      "\n"
     ]
    }
   ],
   "source": [
    "help(mosaic) #関数の説明を表示"
   ]
  },
  {
   "cell_type": "code",
   "execution_count": 17,
   "metadata": {},
   "outputs": [
    {
     "data": {
      "text/html": [
       "<div>\n",
       "<style scoped>\n",
       "    .dataframe tbody tr th:only-of-type {\n",
       "        vertical-align: middle;\n",
       "    }\n",
       "\n",
       "    .dataframe tbody tr th {\n",
       "        vertical-align: top;\n",
       "    }\n",
       "\n",
       "    .dataframe thead th {\n",
       "        text-align: right;\n",
       "    }\n",
       "</style>\n",
       "<table border=\"1\" class=\"dataframe\">\n",
       "  <thead>\n",
       "    <tr style=\"text-align: right;\">\n",
       "      <th></th>\n",
       "      <th>Class</th>\n",
       "      <th>Sex</th>\n",
       "      <th>Age</th>\n",
       "      <th>Survived</th>\n",
       "    </tr>\n",
       "  </thead>\n",
       "  <tbody>\n",
       "    <tr>\n",
       "      <th>2197</th>\n",
       "      <td>Crew</td>\n",
       "      <td>Female</td>\n",
       "      <td>Adult</td>\n",
       "      <td>Yes</td>\n",
       "    </tr>\n",
       "    <tr>\n",
       "      <th>2198</th>\n",
       "      <td>Crew</td>\n",
       "      <td>Female</td>\n",
       "      <td>Adult</td>\n",
       "      <td>Yes</td>\n",
       "    </tr>\n",
       "    <tr>\n",
       "      <th>2199</th>\n",
       "      <td>Crew</td>\n",
       "      <td>Female</td>\n",
       "      <td>Adult</td>\n",
       "      <td>Yes</td>\n",
       "    </tr>\n",
       "    <tr>\n",
       "      <th>2200</th>\n",
       "      <td>Crew</td>\n",
       "      <td>Female</td>\n",
       "      <td>Adult</td>\n",
       "      <td>Yes</td>\n",
       "    </tr>\n",
       "    <tr>\n",
       "      <th>2201</th>\n",
       "      <td>Crew</td>\n",
       "      <td>Female</td>\n",
       "      <td>Adult</td>\n",
       "      <td>Yes</td>\n",
       "    </tr>\n",
       "  </tbody>\n",
       "</table>\n",
       "</div>"
      ],
      "text/plain": [
       "     Class     Sex    Age Survived\n",
       "2197  Crew  Female  Adult      Yes\n",
       "2198  Crew  Female  Adult      Yes\n",
       "2199  Crew  Female  Adult      Yes\n",
       "2200  Crew  Female  Adult      Yes\n",
       "2201  Crew  Female  Adult      Yes"
      ]
     },
     "execution_count": 17,
     "metadata": {},
     "output_type": "execute_result"
    }
   ],
   "source": [
    "titanic = pd.read_csv('../data/Titanic.csv')\n",
    "titanic.tail()"
   ]
  },
  {
   "cell_type": "code",
   "execution_count": 18,
   "metadata": {},
   "outputs": [
    {
     "data": {
      "image/png": "[encoded data removed]",
      "text/plain": [
       "<Figure size 432x288 with 3 Axes>"
      ]
     },
     "metadata": {},
     "output_type": "display_data"
    }
   ],
   "source": [
    "mosaic(titanic, ['Class', 'Survived'])\n",
    "plt.show()"
   ]
  },
  {
   "cell_type": "code",
   "execution_count": 19,
   "metadata": {},
   "outputs": [
    {
     "data": {
      "image/png": "[encoded data removed]",
      "text/plain": [
       "<Figure size 432x288 with 3 Axes>"
      ]
     },
     "metadata": {},
     "output_type": "display_data"
    }
   ],
   "source": [
    "mosaic(titanic, ['Sex', 'Survived'])\n",
    "plt.show()"
   ]
  },
  {
   "cell_type": "code",
   "execution_count": null,
   "metadata": {},
   "outputs": [],
   "source": []
  }
 ],
 "metadata": {
  "kernelspec": {
   "display_name": "Python 3",
   "language": "python",
   "name": "python3"
  },
  "language_info": {
   "codemirror_mode": {
    "name": "ipython",
    "version": 3
   },
   "file_extension": ".py",
   "mimetype": "text/x-python",
   "name": "python",
   "nbconvert_exporter": "python",
   "pygments_lexer": "ipython3",
   "version": "3.8.2"
  },
  "toc": {
   "base_numbering": 1,
   "nav_menu": {},
   "number_sections": true,
   "sideBar": true,
   "skip_h1_title": true,
   "title_cell": "Table of Contents",
   "title_sidebar": "Contents",
   "toc_cell": false,
   "toc_position": {},
   "toc_section_display": true,
   "toc_window_display": true
  },
  "varInspector": {
   "cols": {
    "lenName": 16,
    "lenType": 16,
    "lenVar": 40
   },
   "kernels_config": {
    "python": {
     "delete_cmd_postfix": "",
     "delete_cmd_prefix": "del ",
     "library": "var_list.py",
     "varRefreshCmd": "print(var_dic_list())"
    },
    "r": {
     "delete_cmd_postfix": ") ",
     "delete_cmd_prefix": "rm(",
     "library": "var_list.r",
     "varRefreshCmd": "cat(var_dic_list()) "
    }
   },
   "types_to_exclude": [
    "module",
    "function",
    "builtin_function_or_method",
    "instance",
    "_Feature"
   ],
   "window_display": false
  }
 },
 "nbformat": 4,
 "nbformat_minor": 4
}
